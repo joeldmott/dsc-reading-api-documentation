{
 "cells": [
  {
   "cell_type": "markdown",
   "metadata": {},
   "source": [
    "# Reading API Documentation\n",
    "\n",
    "## Introduction \n",
    "We've now covered an example API request, but how on Earth would you know how to do that on your own? The answer is through documentation! All APIs will have associated documentation, and while there are substantial similarities, all will be different to one degree or another. The best way to get more comfortable is to practice! So with that, let's take a look at the yelp documentation associated with our previous example.  \n",
    "\n",
    "## Objectives\n",
    "\n",
    "You will be able to:\n",
    "\n",
    "* Interpret API documentation into Python code\n",
    "* Make requests using OAuth\n",
    "\n",
    "Start by navigating to https://www.yelp.com/developers/documentation/v3/get_started and having a look for yourself!  \n",
    "\n",
    "<img src=\"images/yelp_overview.png\" width=\"800\">\n",
    "\n",
    "As you see at the top, the first piece of almost every API is authentication. \n",
    "\n",
    "This is where we started in the previous codealong, where we went to https://www.yelp.com/developers/v3/manage_app and created a new app. \n",
    "\n",
    "<img src=\"images/yelp_app.png\"  width=\"800\">"
   ]
  },
  {
   "cell_type": "markdown",
   "metadata": {},
   "source": [
    "Let's take a closer look at Yelp's authentication documentation:  \n",
    "https://www.yelp.com/developers/documentation/v3/authentication\n",
    "    \n",
    "<img src=\"images/yelp_auth.png\" width=\"800\">"
   ]
  },
  {
   "cell_type": "markdown",
   "metadata": {},
   "source": [
    "Notice in the documentation, it gives us the specific format \"Put the API Key in the request header as \"Authorization: Bearer <YOUR API KEY>\".\" This is what we passed in our get request.   \n",
    "\n",
    "\n",
    "Before we do this, let's import your authentication token which you have appropriately stored in **a separate file** from the codealong before."
   ]
  },
  {
   "cell_type": "code",
   "execution_count": 1,
   "metadata": {},
   "outputs": [],
   "source": [
    "import json\n",
    "\n",
    "#Our previous function for loading our api key file\n",
    "def get_keys(path):\n",
    "    with open(path) as f:\n",
    "        return json.load(f)"
   ]
  },
  {
   "cell_type": "markdown",
   "metadata": {},
   "source": [
    "> **Note**: Like before, change the file path below to be your root directory. \n",
    "If you're not sure what your username is, check it with `pwd`  \n",
    "For example, my current working directory is ```/Users/matthew.mitchell/Documents/dsc-using-yelp-api-codealong```  \n",
    "So the line below would become:\n",
    "```keys = get_keys(\"/Users/matthew.mitchell/.secret/yelp_api.json\")```\n"
   ]
  },
  {
   "cell_type": "code",
   "execution_count": 2,
   "metadata": {},
   "outputs": [],
   "source": [
    "keys = get_keys(\"/Users/joelm/.secret/yelp_api.json\")\n",
    "\n",
    "api_key = keys['api_key']\n",
    "\n",
    "#While you may wish to print out these api keys to check that they imported properly,\n",
    "#be sure to clear the output before uploading to Github. \n",
    "#Again, you don't want your keys stolen!!!"
   ]
  },
  {
   "cell_type": "code",
   "execution_count": 3,
   "metadata": {},
   "outputs": [],
   "source": [
    "import requests"
   ]
  },
  {
   "cell_type": "code",
   "execution_count": 5,
   "metadata": {},
   "outputs": [
    {
     "ename": "TypeError",
     "evalue": "request() got an unexpected keyword argument 'header'",
     "output_type": "error",
     "traceback": [
      "\u001b[1;31m---------------------------------------------------------------------------\u001b[0m",
      "\u001b[1;31mTypeError\u001b[0m                                 Traceback (most recent call last)",
      "\u001b[1;32m<ipython-input-5-74cda8f599d7>\u001b[0m in \u001b[0;36m<module>\u001b[1;34m\u001b[0m\n\u001b[0;32m      1\u001b[0m \u001b[0murl\u001b[0m \u001b[1;33m=\u001b[0m \u001b[1;34m'https://api.yelp.com/v3/businesses/search'\u001b[0m\u001b[1;33m\u001b[0m\u001b[1;33m\u001b[0m\u001b[0m\n\u001b[0;32m      2\u001b[0m \u001b[0mheader\u001b[0m \u001b[1;33m=\u001b[0m \u001b[1;33m{\u001b[0m\u001b[1;34m\"Authorization\"\u001b[0m \u001b[1;33m:\u001b[0m \u001b[1;34m\"Bearer {}\"\u001b[0m\u001b[1;33m.\u001b[0m\u001b[0mformat\u001b[0m\u001b[1;33m(\u001b[0m\u001b[0mapi_key\u001b[0m\u001b[1;33m)\u001b[0m\u001b[1;33m}\u001b[0m\u001b[1;33m\u001b[0m\u001b[1;33m\u001b[0m\u001b[0m\n\u001b[1;32m----> 3\u001b[1;33m \u001b[0mresponse\u001b[0m \u001b[1;33m=\u001b[0m \u001b[0mrequests\u001b[0m\u001b[1;33m.\u001b[0m\u001b[0mget\u001b[0m\u001b[1;33m(\u001b[0m\u001b[0murl\u001b[0m\u001b[1;33m,\u001b[0m \u001b[0mheader\u001b[0m\u001b[1;33m=\u001b[0m\u001b[0mheader\u001b[0m\u001b[1;33m)\u001b[0m\u001b[1;33m\u001b[0m\u001b[1;33m\u001b[0m\u001b[0m\n\u001b[0m",
      "\u001b[1;32m~\\anaconda3again\\envs\\learn-env\\lib\\site-packages\\requests\\api.py\u001b[0m in \u001b[0;36mget\u001b[1;34m(url, params, **kwargs)\u001b[0m\n\u001b[0;32m     74\u001b[0m \u001b[1;33m\u001b[0m\u001b[0m\n\u001b[0;32m     75\u001b[0m     \u001b[0mkwargs\u001b[0m\u001b[1;33m.\u001b[0m\u001b[0msetdefault\u001b[0m\u001b[1;33m(\u001b[0m\u001b[1;34m'allow_redirects'\u001b[0m\u001b[1;33m,\u001b[0m \u001b[1;32mTrue\u001b[0m\u001b[1;33m)\u001b[0m\u001b[1;33m\u001b[0m\u001b[1;33m\u001b[0m\u001b[0m\n\u001b[1;32m---> 76\u001b[1;33m     \u001b[1;32mreturn\u001b[0m \u001b[0mrequest\u001b[0m\u001b[1;33m(\u001b[0m\u001b[1;34m'get'\u001b[0m\u001b[1;33m,\u001b[0m \u001b[0murl\u001b[0m\u001b[1;33m,\u001b[0m \u001b[0mparams\u001b[0m\u001b[1;33m=\u001b[0m\u001b[0mparams\u001b[0m\u001b[1;33m,\u001b[0m \u001b[1;33m**\u001b[0m\u001b[0mkwargs\u001b[0m\u001b[1;33m)\u001b[0m\u001b[1;33m\u001b[0m\u001b[1;33m\u001b[0m\u001b[0m\n\u001b[0m\u001b[0;32m     77\u001b[0m \u001b[1;33m\u001b[0m\u001b[0m\n\u001b[0;32m     78\u001b[0m \u001b[1;33m\u001b[0m\u001b[0m\n",
      "\u001b[1;32m~\\anaconda3again\\envs\\learn-env\\lib\\site-packages\\requests\\api.py\u001b[0m in \u001b[0;36mrequest\u001b[1;34m(method, url, **kwargs)\u001b[0m\n\u001b[0;32m     59\u001b[0m     \u001b[1;31m# cases, and look like a memory leak in others.\u001b[0m\u001b[1;33m\u001b[0m\u001b[1;33m\u001b[0m\u001b[1;33m\u001b[0m\u001b[0m\n\u001b[0;32m     60\u001b[0m     \u001b[1;32mwith\u001b[0m \u001b[0msessions\u001b[0m\u001b[1;33m.\u001b[0m\u001b[0mSession\u001b[0m\u001b[1;33m(\u001b[0m\u001b[1;33m)\u001b[0m \u001b[1;32mas\u001b[0m \u001b[0msession\u001b[0m\u001b[1;33m:\u001b[0m\u001b[1;33m\u001b[0m\u001b[1;33m\u001b[0m\u001b[0m\n\u001b[1;32m---> 61\u001b[1;33m         \u001b[1;32mreturn\u001b[0m \u001b[0msession\u001b[0m\u001b[1;33m.\u001b[0m\u001b[0mrequest\u001b[0m\u001b[1;33m(\u001b[0m\u001b[0mmethod\u001b[0m\u001b[1;33m=\u001b[0m\u001b[0mmethod\u001b[0m\u001b[1;33m,\u001b[0m \u001b[0murl\u001b[0m\u001b[1;33m=\u001b[0m\u001b[0murl\u001b[0m\u001b[1;33m,\u001b[0m \u001b[1;33m**\u001b[0m\u001b[0mkwargs\u001b[0m\u001b[1;33m)\u001b[0m\u001b[1;33m\u001b[0m\u001b[1;33m\u001b[0m\u001b[0m\n\u001b[0m\u001b[0;32m     62\u001b[0m \u001b[1;33m\u001b[0m\u001b[0m\n\u001b[0;32m     63\u001b[0m \u001b[1;33m\u001b[0m\u001b[0m\n",
      "\u001b[1;31mTypeError\u001b[0m: request() got an unexpected keyword argument 'header'"
     ]
    }
   ],
   "source": [
    "url = 'https://api.yelp.com/v3/businesses/search'\n",
    "header = {\"Authorization\" : \"Bearer {}\".format(api_key)}\n",
    "response = requests.get(url, header=header)"
   ]
  },
  {
   "cell_type": "markdown",
   "metadata": {},
   "source": [
    " With that, let's take a look at how the rest of our request should be formatted. Go to https://www.yelp.com/developers/documentation/v3/business_search  and take a couple of minutes to look things over.\n",
    " \n",
    " <img src=\"images/yelp_docs.png\"  width=\"800\">"
   ]
  },
  {
   "cell_type": "markdown",
   "metadata": {},
   "source": [
    "Notice the first part is the format of the get request! This is the URL we pass into our get request. From there, the available parameters that you can pass are listed. These define your query, some are required while others are optional.\n",
    "\n",
    "Reviewing our python package we thus have:"
   ]
  },
  {
   "cell_type": "code",
   "execution_count": 6,
   "metadata": {},
   "outputs": [],
   "source": [
    "url = 'https://api.yelp.com/v3/businesses/search'\n",
    "\n",
    "headers = {\n",
    "        'Authorization': 'Bearer {}'.format(api_key),\n",
    "    }\n",
    "\n",
    "url_params = {\n",
    "                'location': 'NYC'\n",
    "            }\n",
    "response = requests.get(url, headers=headers, params=url_params)"
   ]
  },
  {
   "cell_type": "markdown",
   "metadata": {},
   "source": [
    "Note that location or latitude and longitude are the only required parameters. That said, you are free to pass as many parameters as you want such as:"
   ]
  },
  {
   "cell_type": "code",
   "execution_count": 7,
   "metadata": {},
   "outputs": [],
   "source": [
    "url = 'https://api.yelp.com/v3/businesses/search'\n",
    "\n",
    "headers = {\n",
    "        'Authorization': 'Bearer {}'.format(api_key),\n",
    "    }\n",
    "\n",
    "url_params = {\n",
    "                'location': 'NYC',\n",
    "                'term' : 'pizza',\n",
    "                'limit' : 50,\n",
    "                'price' : \"1,2,3,4\",\n",
    "                'open_now' : True\n",
    "            }\n",
    "response = requests.get(url, headers=headers, params=url_params)"
   ]
  },
  {
   "cell_type": "code",
   "execution_count": 8,
   "metadata": {},
   "outputs": [],
   "source": [
    "#Ok, going to try this on my own a bit now:\n",
    "\n",
    "url = 'https://api.yelp.com/v3/businesses/search'\n",
    "#I get this, it's the URL to make requests.\n",
    "headers = {\n",
    "        'Authorization': 'Bearer {}'.format(api_key),\n",
    "    }\n",
    "#I get this, it's how I authenticate myself.\n",
    "\n",
    "url_params = {'location': 'Austin', 'term': 'tacos', 'open_now': True}\n",
    "response = requests.get(url, headers=headers, params=url_params)"
   ]
  },
  {
   "cell_type": "code",
   "execution_count": 9,
   "metadata": {},
   "outputs": [
    {
     "name": "stdout",
     "output_type": "stream",
     "text": [
      "<Response [200]>\n"
     ]
    }
   ],
   "source": [
    "print(response)"
   ]
  },
  {
   "cell_type": "code",
   "execution_count": 10,
   "metadata": {},
   "outputs": [
    {
     "name": "stdout",
     "output_type": "stream",
     "text": [
      "{\"businesses\": [{\"id\": \"ec6X_eh2wyzFLqHbApAsuw\", \"alias\": \"pepe-s-tacos-austin\", \"name\": \"Pepe\\u2019s Tacos\", \"image_url\": \"https://s3-media1.fl.yelpcdn.com/bphoto/HZNBngnBW6KbZCdnurD2Lw/o.jpg\", \"is_closed\": false, \"url\": \"https://www.yelp.com/biz/pepe-s-tacos-austin?adjust_creative=7Al0DP6TboF9LrNmrypGsw&utm_campaign=yelp_api_v3&utm_medium=api_v3_business_search&utm_source=7Al0DP6TboF9LrNmrypGsw\", \"review_count\": 161, \"categories\": [{\"alias\": \"foodtrucks\", \"title\": \"Food Trucks\"}, {\"alias\": \"tacos\", \"title\": \"Tacos\"}], \"rating\": 4.5, \"coordinates\": {\"latitude\": 30.273319, \"longitude\": -97.7535433}, \"transactions\": [\"delivery\", \"pickup\"], \"price\": \"$$\", \"location\": {\"address1\": \"704 N Lamar Blvd\", \"address2\": \"\", \"address3\": null, \"city\": \"Austin\", \"zip_code\": \"78703\", \"country\": \"US\", \"state\": \"TX\", \"display_address\": [\"704 N Lamar Blvd\", \"Austin, TX 78703\"]}, \"phone\": \"+17372034175\", \"display_phone\": \"(737) 203-4175\", \"distance\": 3562.7962296109026}, {\"id\": \"5OAi35OianJzCnIsL8aOFQ\", \"alias\": \"veracruz-all-natural-austin-6\", \"name\": \"Veracruz All Natural\", \"image_url\": \"https://s3-media1.fl.yelpcdn.com/bphoto/__s9xbI6Soens1vnTFX4pw/o.jpg\", \"is_closed\": false, \"url\": \"https://www.yelp.com/biz/veracruz-all-natural-austin-6?adjust_creative=7Al0DP6TboF9LrNmrypGsw&utm_campaign=yelp_api_v3&utm_medium=api_v3_business_search&utm_source=7Al0DP6TboF9LrNmrypGsw\", \"review_count\": 979, \"categories\": [{\"alias\": \"foodtrucks\", \"title\": \"Food Trucks\"}, {\"alias\": \"mexican\", \"title\": \"Mexican\"}], \"rating\": 4.5, \"coordinates\": {\"latitude\": 30.263074671462796, \"longitude\": -97.7137147141985}, \"transactions\": [\"delivery\"], \"price\": \"$\", \"location\": {\"address1\": \"2505 Webberville Rd\", \"address2\": null, \"address3\": \"\", \"city\": \"Austin\", \"zip_code\": \"78702\", \"country\": \"US\", \"state\": \"TX\", \"display_address\": [\"2505 Webberville Rd\", \"Austin, TX 78702\"]}, \"phone\": \"+15129811760\", \"display_phone\": \"(512) 981-1760\", \"distance\": 6304.790524557592}, {\"id\": \"5fI9ZzqzRLnMNYoTMjUGGQ\", \"alias\": \"grannys-tacos-austin\", \"name\": \"Granny's Tacos\", \"image_url\": \"https://s3-media1.fl.yelpcdn.com/bphoto/s582az6OfRSsnAYNFdmVTQ/o.jpg\", \"is_closed\": false, \"url\": \"https://www.yelp.com/biz/grannys-tacos-austin?adjust_creative=7Al0DP6TboF9LrNmrypGsw&utm_campaign=yelp_api_v3&utm_medium=api_v3_business_search&utm_source=7Al0DP6TboF9LrNmrypGsw\", \"review_count\": 459, \"categories\": [{\"alias\": \"foodtrucks\", \"title\": \"Food Trucks\"}, {\"alias\": \"tacos\", \"title\": \"Tacos\"}, {\"alias\": \"breakfast_brunch\", \"title\": \"Breakfast & Brunch\"}], \"rating\": 5.0, \"coordinates\": {\"latitude\": 30.264366833319514, \"longitude\": -97.72800188890876}, \"transactions\": [\"delivery\", \"pickup\"], \"price\": \"$\", \"location\": {\"address1\": \"1401 E 7th St\", \"address2\": null, \"address3\": null, \"city\": \"Austin\", \"zip_code\": \"78702\", \"country\": \"US\", \"state\": \"TX\", \"display_address\": [\"1401 E 7th St\", \"Austin, TX 78702\"]}, \"phone\": \"+15127014000\", \"display_phone\": \"(512) 701-4000\", \"distance\": 5358.604678218958}, {\"id\": \"cYsillXIBTJzaxxC3-5wJg\", \"alias\": \"las-trancas-austin\", \"name\": \"Las Trancas\", \"image_url\": \"https://s3-media1.fl.yelpcdn.com/bphoto/8Y7P56nYPKkTWsJlh7zoOA/o.jpg\", \"is_closed\": false, \"url\": \"https://www.yelp.com/biz/las-trancas-austin?adjust_creative=7Al0DP6TboF9LrNmrypGsw&utm_campaign=yelp_api_v3&utm_medium=api_v3_business_search&utm_source=7Al0DP6TboF9LrNmrypGsw\", \"review_count\": 442, \"categories\": [{\"alias\": \"mexican\", \"title\": \"Mexican\"}, {\"alias\": \"foodtrucks\", \"title\": \"Food Trucks\"}], \"rating\": 4.5, \"coordinates\": {\"latitude\": 30.2596927300688, \"longitude\": -97.731671333313}, \"transactions\": [\"delivery\"], \"price\": \"$\", \"location\": {\"address1\": \"1210 E Cesar Chavez St\", \"address2\": \"\", \"address3\": \"\", \"city\": \"Austin\", \"zip_code\": \"78702\", \"country\": \"US\", \"state\": \"TX\", \"display_address\": [\"1210 E Cesar Chavez St\", \"Austin, TX 78702\"]}, \"phone\": \"+15127018287\", \"display_phone\": \"(512) 701-8287\", \"distance\": 5640.294792053827}, {\"id\": \"IHVluPs_KKEIqX2UUFQDYg\", \"alias\": \"cuantos-tacos-austin\", \"name\": \"Cuantos Tacos\", \"image_url\": \"https://s3-media4.fl.yelpcdn.com/bphoto/Dqrq54Yjz1Gqpytmx0eL7Q/o.jpg\", \"is_closed\": false, \"url\": \"https://www.yelp.com/biz/cuantos-tacos-austin?adjust_creative=7Al0DP6TboF9LrNmrypGsw&utm_campaign=yelp_api_v3&utm_medium=api_v3_business_search&utm_source=7Al0DP6TboF9LrNmrypGsw\", \"review_count\": 118, \"categories\": [{\"alias\": \"mexican\", \"title\": \"Mexican\"}, {\"alias\": \"foodtrucks\", \"title\": \"Food Trucks\"}], \"rating\": 5.0, \"coordinates\": {\"latitude\": 30.27289434365302, \"longitude\": -97.7281926024063}, \"transactions\": [\"delivery\"], \"price\": \"$\", \"location\": {\"address1\": \"1108 E 12th St\", \"address2\": null, \"address3\": \"\", \"city\": \"Austin\", \"zip_code\": \"78702\", \"country\": \"US\", \"state\": \"TX\", \"display_address\": [\"1108 E 12th St\", \"Austin, TX 78702\"]}, \"phone\": \"+15129033918\", \"display_phone\": \"(512) 903-3918\", \"distance\": 4572.469108887288}, {\"id\": \"g6B2TZYS7JKKpNWPwVnwqw\", \"alias\": \"taco-joint-austin-2\", \"name\": \"Taco Joint\", \"image_url\": \"https://s3-media1.fl.yelpcdn.com/bphoto/pmkyEaexL3Ck4Fd22A9TuA/o.jpg\", \"is_closed\": false, \"url\": \"https://www.yelp.com/biz/taco-joint-austin-2?adjust_creative=7Al0DP6TboF9LrNmrypGsw&utm_campaign=yelp_api_v3&utm_medium=api_v3_business_search&utm_source=7Al0DP6TboF9LrNmrypGsw\", \"review_count\": 469, \"categories\": [{\"alias\": \"mexican\", \"title\": \"Mexican\"}], \"rating\": 4.5, \"coordinates\": {\"latitude\": 30.291596, \"longitude\": -97.734906}, \"transactions\": [\"delivery\"], \"price\": \"$\", \"location\": {\"address1\": \"2807 & 2809 San Jacinto Blvd\", \"address2\": \"\", \"address3\": \"\", \"city\": \"Austin\", \"zip_code\": \"78705\", \"country\": \"US\", \"state\": \"TX\", \"display_address\": [\"2807 & 2809 San Jacinto Blvd\", \"Austin, TX 78705\"]}, \"phone\": \"+15124738223\", \"display_phone\": \"(512) 473-8223\", \"distance\": 2654.6750158200266}, {\"id\": \"V8B1lqK7IXULiOe-zuIpMw\", \"alias\": \"taco-joint-austin-4\", \"name\": \"Taco Joint\", \"image_url\": \"https://s3-media1.fl.yelpcdn.com/bphoto/OdLP3nevs3gCZ1dzT_8eLQ/o.jpg\", \"is_closed\": false, \"url\": \"https://www.yelp.com/biz/taco-joint-austin-4?adjust_creative=7Al0DP6TboF9LrNmrypGsw&utm_campaign=yelp_api_v3&utm_medium=api_v3_business_search&utm_source=7Al0DP6TboF9LrNmrypGsw\", \"review_count\": 520, \"categories\": [{\"alias\": \"mexican\", \"title\": \"Mexican\"}], \"rating\": 4.5, \"coordinates\": {\"latitude\": 30.25637, \"longitude\": -97.74552}, \"transactions\": [\"delivery\"], \"price\": \"$\", \"location\": {\"address1\": \"134 E Riverside Dr\", \"address2\": \"\", \"address3\": \"\", \"city\": \"Austin\", \"zip_code\": \"78704\", \"country\": \"US\", \"state\": \"TX\", \"display_address\": [\"134 E Riverside Dr\", \"Austin, TX 78704\"]}, \"phone\": \"+15125995144\", \"display_phone\": \"(512) 599-5144\", \"distance\": 5552.222664066045}, {\"id\": \"FWppPI6i6GJ1EXtT7U3G4Q\", \"alias\": \"vaquero-taquero-austin\", \"name\": \"Vaquero Taquero\", \"image_url\": \"https://s3-media1.fl.yelpcdn.com/bphoto/BFKjKzxefir6q7dFTf_0vg/o.jpg\", \"is_closed\": false, \"url\": \"https://www.yelp.com/biz/vaquero-taquero-austin?adjust_creative=7Al0DP6TboF9LrNmrypGsw&utm_campaign=yelp_api_v3&utm_medium=api_v3_business_search&utm_source=7Al0DP6TboF9LrNmrypGsw\", \"review_count\": 197, \"categories\": [{\"alias\": \"tacos\", \"title\": \"Tacos\"}, {\"alias\": \"breakfast_brunch\", \"title\": \"Breakfast & Brunch\"}], \"rating\": 4.5, \"coordinates\": {\"latitude\": 30.2951071, \"longitude\": -97.7364183}, \"transactions\": [\"delivery\", \"pickup\"], \"price\": \"$\", \"location\": {\"address1\": \"104 E 31st\", \"address2\": null, \"address3\": \"\", \"city\": \"Austin\", \"zip_code\": \"78751\", \"country\": \"US\", \"state\": \"TX\", \"display_address\": [\"104 E 31st\", \"Austin, TX 78751\"]}, \"phone\": \"\", \"display_phone\": \"\", \"distance\": 2330.516719041641}, {\"id\": \"gXlrgQkkdCc9iESuRlN_Uw\", \"alias\": \"la-tunita-512-austin\", \"name\": \"La Tunita 512\", \"image_url\": \"https://s3-media2.fl.yelpcdn.com/bphoto/mdgiwreDrqz6axaRn3DcsA/o.jpg\", \"is_closed\": false, \"url\": \"https://www.yelp.com/biz/la-tunita-512-austin?adjust_creative=7Al0DP6TboF9LrNmrypGsw&utm_campaign=yelp_api_v3&utm_medium=api_v3_business_search&utm_source=7Al0DP6TboF9LrNmrypGsw\", \"review_count\": 136, \"categories\": [{\"alias\": \"foodtrucks\", \"title\": \"Food Trucks\"}, {\"alias\": \"tacos\", \"title\": \"Tacos\"}], \"rating\": 5.0, \"coordinates\": {\"latitude\": 30.2295, \"longitude\": -97.735966}, \"transactions\": [\"delivery\"], \"price\": \"$\", \"location\": {\"address1\": \"2400 Burleson Rd\", \"address2\": \"\", \"address3\": null, \"city\": \"Austin\", \"zip_code\": \"78741\", \"country\": \"US\", \"state\": \"TX\", \"display_address\": [\"2400 Burleson Rd\", \"Austin, TX 78741\"]}, \"phone\": \"+15126790708\", \"display_phone\": \"(512) 679-0708\", \"distance\": 8668.14584381756}, {\"id\": \"JfSFcZjRfUKpjSq9s42jYA\", \"alias\": \"velvet-taco-austin-5\", \"name\": \"Velvet Taco\", \"image_url\": \"https://s3-media4.fl.yelpcdn.com/bphoto/AD1VDQbPt4TOquRnpkskkQ/o.jpg\", \"is_closed\": false, \"url\": \"https://www.yelp.com/biz/velvet-taco-austin-5?adjust_creative=7Al0DP6TboF9LrNmrypGsw&utm_campaign=yelp_api_v3&utm_medium=api_v3_business_search&utm_source=7Al0DP6TboF9LrNmrypGsw\", \"review_count\": 280, \"categories\": [{\"alias\": \"newamerican\", \"title\": \"American (New)\"}, {\"alias\": \"tacos\", \"title\": \"Tacos\"}, {\"alias\": \"vegetarian\", \"title\": \"Vegetarian\"}], \"rating\": 4.5, \"coordinates\": {\"latitude\": 30.26794, \"longitude\": -97.7431}, \"transactions\": [\"delivery\", \"pickup\"], \"price\": \"$$\", \"location\": {\"address1\": \"522 Congress Ave\", \"address2\": \"Ste 100\", \"address3\": null, \"city\": \"Austin\", \"zip_code\": \"78701\", \"country\": \"US\", \"state\": \"TX\", \"display_address\": [\"522 Congress Ave\", \"Ste 100\", \"Austin, TX 78701\"]}, \"phone\": \"+15122985223\", \"display_phone\": \"(512) 298-5223\", \"distance\": 4369.905825114657}, {\"id\": \"FqWMOQ0WbVZ55Y3sS1ulhQ\", \"alias\": \"veracruz-all-natural-austin-15\", \"name\": \"Veracruz All Natural\", \"image_url\": \"https://s3-media2.fl.yelpcdn.com/bphoto/t9KK6vW8FEHANVIN6_GBqA/o.jpg\", \"is_closed\": false, \"url\": \"https://www.yelp.com/biz/veracruz-all-natural-austin-15?adjust_creative=7Al0DP6TboF9LrNmrypGsw&utm_campaign=yelp_api_v3&utm_medium=api_v3_business_search&utm_source=7Al0DP6TboF9LrNmrypGsw\", \"review_count\": 27, \"categories\": [{\"alias\": \"foodtrucks\", \"title\": \"Food Trucks\"}, {\"alias\": \"mexican\", \"title\": \"Mexican\"}, {\"alias\": \"juicebars\", \"title\": \"Juice Bars & Smoothies\"}], \"rating\": 4.0, \"coordinates\": {\"latitude\": 30.29333, \"longitude\": -97.76036}, \"transactions\": [], \"location\": {\"address1\": \"2401 Winsted Ln\", \"address2\": null, \"address3\": \"\", \"city\": \"Austin\", \"zip_code\": \"78703\", \"country\": \"US\", \"state\": \"TX\", \"display_address\": [\"2401 Winsted Ln\", \"Austin, TX 78703\"]}, \"phone\": \"+14013727162\", \"display_phone\": \"(401) 372-7162\", \"distance\": 1397.0182328506728}, {\"id\": \"omzxJo2aWruaJo_82xTfkA\", \"alias\": \"papalote-taco-house-austin\", \"name\": \"Papalote Taco House\", \"image_url\": \"https://s3-media3.fl.yelpcdn.com/bphoto/MIZsIf2szTIQuq7iwbsEFQ/o.jpg\", \"is_closed\": false, \"url\": \"https://www.yelp.com/biz/papalote-taco-house-austin?adjust_creative=7Al0DP6TboF9LrNmrypGsw&utm_campaign=yelp_api_v3&utm_medium=api_v3_business_search&utm_source=7Al0DP6TboF9LrNmrypGsw\", \"review_count\": 602, \"categories\": [{\"alias\": \"mexican\", \"title\": \"Mexican\"}], \"rating\": 4.5, \"coordinates\": {\"latitude\": 30.2435, \"longitude\": -97.78188}, \"transactions\": [\"delivery\", \"pickup\"], \"price\": \"$\", \"location\": {\"address1\": \"2803 S Lamar Blvd\", \"address2\": \"\", \"address3\": \"\", \"city\": \"Austin\", \"zip_code\": \"78704\", \"country\": \"US\", \"state\": \"TX\", \"display_address\": [\"2803 S Lamar Blvd\", \"Austin, TX 78704\"]}, \"phone\": \"+15128042474\", \"display_phone\": \"(512) 804-2474\", \"distance\": 7237.230527493038}, {\"id\": \"7SoyMCOiM2hiAJ_RRzIJSA\", \"alias\": \"top-taco-austin\", \"name\": \"Top Taco\", \"image_url\": \"https://s3-media4.fl.yelpcdn.com/bphoto/RJ-zUriWojXvWoCS896RjQ/o.jpg\", \"is_closed\": false, \"url\": \"https://www.yelp.com/biz/top-taco-austin?adjust_creative=7Al0DP6TboF9LrNmrypGsw&utm_campaign=yelp_api_v3&utm_medium=api_v3_business_search&utm_source=7Al0DP6TboF9LrNmrypGsw\", \"review_count\": 224, \"categories\": [{\"alias\": \"foodtrucks\", \"title\": \"Food Trucks\"}, {\"alias\": \"catering\", \"title\": \"Caterers\"}, {\"alias\": \"tacos\", \"title\": \"Tacos\"}], \"rating\": 4.5, \"coordinates\": {\"latitude\": 30.4438093, \"longitude\": -97.8324636}, \"transactions\": [\"delivery\"], \"price\": \"$\", \"location\": {\"address1\": \"10505 Ranch Rd 620 N\", \"address2\": \"\", \"address3\": \"\", \"city\": \"Austin\", \"zip_code\": \"78726\", \"country\": \"US\", \"state\": \"TX\", \"display_address\": [\"10505 Ranch Rd 620 N\", \"Austin, TX 78726\"]}, \"phone\": \"+15128882565\", \"display_phone\": \"(512) 888-2565\", \"distance\": 17003.265023684755}, {\"id\": \"Qn375GaXRU_6OCcD2z_uSw\", \"alias\": \"pueblo-viejo-austin\", \"name\": \"Pueblo Viejo\", \"image_url\": \"https://s3-media1.fl.yelpcdn.com/bphoto/991HZJgRaoD8EQriX_jv8w/o.jpg\", \"is_closed\": false, \"url\": \"https://www.yelp.com/biz/pueblo-viejo-austin?adjust_creative=7Al0DP6TboF9LrNmrypGsw&utm_campaign=yelp_api_v3&utm_medium=api_v3_business_search&utm_source=7Al0DP6TboF9LrNmrypGsw\", \"review_count\": 557, \"categories\": [{\"alias\": \"mexican\", \"title\": \"Mexican\"}, {\"alias\": \"foodtrucks\", \"title\": \"Food Trucks\"}, {\"alias\": \"tex-mex\", \"title\": \"Tex-Mex\"}], \"rating\": 4.5, \"coordinates\": {\"latitude\": 30.237308266957864, \"longitude\": -97.72487640735946}, \"transactions\": [\"delivery\", \"pickup\"], \"price\": \"$\", \"location\": {\"address1\": \"2410 E Riverside Dr\", \"address2\": \"Ste H-8\", \"address3\": \"\", \"city\": \"Austin\", \"zip_code\": \"78741\", \"country\": \"US\", \"state\": \"TX\", \"display_address\": [\"2410 E Riverside Dr\", \"Ste H-8\", \"Austin, TX 78741\"]}, \"phone\": \"+15123053448\", \"display_phone\": \"(512) 305-3448\", \"distance\": 8177.163175578689}, {\"id\": \"5suI6QbrzMAj_AAbv8pSHw\", \"alias\": \"tacos-yo-soy-austin\", \"name\": \"Tacos Yo Soy\", \"image_url\": \"https://s3-media1.fl.yelpcdn.com/bphoto/UeQM1-d96OqAFZK36fVhug/o.jpg\", \"is_closed\": false, \"url\": \"https://www.yelp.com/biz/tacos-yo-soy-austin?adjust_creative=7Al0DP6TboF9LrNmrypGsw&utm_campaign=yelp_api_v3&utm_medium=api_v3_business_search&utm_source=7Al0DP6TboF9LrNmrypGsw\", \"review_count\": 27, \"categories\": [{\"alias\": \"mexican\", \"title\": \"Mexican\"}, {\"alias\": \"foodtrucks\", \"title\": \"Food Trucks\"}], \"rating\": 5.0, \"coordinates\": {\"latitude\": 30.31739, \"longitude\": -97.72109}, \"transactions\": [\"delivery\", \"pickup\"], \"location\": {\"address1\": \"201 E 53rd St\", \"address2\": null, \"address3\": \"\", \"city\": \"Austin\", \"zip_code\": \"78751\", \"country\": \"US\", \"state\": \"TX\", \"display_address\": [\"201 E 53rd St\", \"Austin, TX 78751\"]}, \"phone\": \"+15129458472\", \"display_phone\": \"(512) 945-8472\", \"distance\": 3772.4753997520866}, {\"id\": \"bZax7xc1iskf95gefL1bkw\", \"alias\": \"tacos-la-catrina-austin\", \"name\": \"Tacos La Catrina\", \"image_url\": \"https://s3-media3.fl.yelpcdn.com/bphoto/m4QX-WCcpvUSXtPjdoYKzw/o.jpg\", \"is_closed\": false, \"url\": \"https://www.yelp.com/biz/tacos-la-catrina-austin?adjust_creative=7Al0DP6TboF9LrNmrypGsw&utm_campaign=yelp_api_v3&utm_medium=api_v3_business_search&utm_source=7Al0DP6TboF9LrNmrypGsw\", \"review_count\": 42, \"categories\": [{\"alias\": \"foodtrucks\", \"title\": \"Food Trucks\"}, {\"alias\": \"tacos\", \"title\": \"Tacos\"}], \"rating\": 5.0, \"coordinates\": {\"latitude\": 30.4839537, \"longitude\": -97.7387926}, \"transactions\": [\"delivery\", \"pickup\"], \"location\": {\"address1\": \"15400 Ranch Rd 620 N\", \"address2\": null, \"address3\": \"\", \"city\": \"Austin\", \"zip_code\": \"78717\", \"country\": \"US\", \"state\": \"TX\", \"display_address\": [\"15400 Ranch Rd 620 N\", \"Austin, TX 78717\"]}, \"phone\": \"+18329518779\", \"display_phone\": \"(832) 951-8779\", \"distance\": 19964.057162888803}, {\"id\": \"BtlzDIZ5RJePAae_hklVlA\", \"alias\": \"jefes-street-tacos-austin\", \"name\": \"Jefes Street Tacos\", \"image_url\": \"https://s3-media1.fl.yelpcdn.com/bphoto/UtfT4cJYbr7XkzuYFQrtFg/o.jpg\", \"is_closed\": false, \"url\": \"https://www.yelp.com/biz/jefes-street-tacos-austin?adjust_creative=7Al0DP6TboF9LrNmrypGsw&utm_campaign=yelp_api_v3&utm_medium=api_v3_business_search&utm_source=7Al0DP6TboF9LrNmrypGsw\", \"review_count\": 31, \"categories\": [{\"alias\": \"foodtrucks\", \"title\": \"Food Trucks\"}, {\"alias\": \"mexican\", \"title\": \"Mexican\"}], \"rating\": 4.5, \"coordinates\": {\"latitude\": 30.286238, \"longitude\": -97.742508}, \"transactions\": [\"delivery\"], \"price\": \"$\", \"location\": {\"address1\": \"411 W 23rd St\", \"address2\": \"\", \"address3\": \"\", \"city\": \"Austin\", \"zip_code\": \"78705\", \"country\": \"US\", \"state\": \"TX\", \"display_address\": [\"411 W 23rd St\", \"Austin, TX 78705\"]}, \"phone\": \"+15124590034\", \"display_phone\": \"(512) 459-0034\", \"distance\": 2561.638507857853}, {\"id\": \"-qjkQHH-5O8BAztc6udOuw\", \"alias\": \"tacodeli-austin-3\", \"name\": \"Tacodeli\", \"image_url\": \"https://s3-media1.fl.yelpcdn.com/bphoto/gq2-uWo3_gFMWAAViGBIRw/o.jpg\", \"is_closed\": false, \"url\": \"https://www.yelp.com/biz/tacodeli-austin-3?adjust_creative=7Al0DP6TboF9LrNmrypGsw&utm_campaign=yelp_api_v3&utm_medium=api_v3_business_search&utm_source=7Al0DP6TboF9LrNmrypGsw\", \"review_count\": 1091, \"categories\": [{\"alias\": \"seafood\", \"title\": \"Seafood\"}, {\"alias\": \"breakfast_brunch\", \"title\": \"Breakfast & Brunch\"}, {\"alias\": \"tacos\", \"title\": \"Tacos\"}], \"rating\": 4.5, \"coordinates\": {\"latitude\": 30.25842781318233, \"longitude\": -97.78767949472194}, \"transactions\": [\"delivery\"], \"price\": \"$\", \"location\": {\"address1\": \"1500 Spyglass Dr\", \"address2\": \"Ste B\", \"address3\": \"\", \"city\": \"Austin\", \"zip_code\": \"78746\", \"country\": \"US\", \"state\": \"TX\", \"display_address\": [\"1500 Spyglass Dr\", \"Ste B\", \"Austin, TX 78746\"]}, \"phone\": \"+15127320303\", \"display_phone\": \"(512) 732-0303\", \"distance\": 5939.150898532916}, {\"id\": \"tc-miuh1kIkkdXizliGFuw\", \"alias\": \"kesos-tacos-austin\", \"name\": \"Kesos Tacos\", \"image_url\": \"https://s3-media4.fl.yelpcdn.com/bphoto/JDSolPqCCbnpwo93xP2ezA/o.jpg\", \"is_closed\": false, \"url\": \"https://www.yelp.com/biz/kesos-tacos-austin?adjust_creative=7Al0DP6TboF9LrNmrypGsw&utm_campaign=yelp_api_v3&utm_medium=api_v3_business_search&utm_source=7Al0DP6TboF9LrNmrypGsw\", \"review_count\": 226, \"categories\": [{\"alias\": \"tex-mex\", \"title\": \"Tex-Mex\"}, {\"alias\": \"mexican\", \"title\": \"Mexican\"}], \"rating\": 4.0, \"coordinates\": {\"latitude\": 30.28264, \"longitude\": -97.74444}, \"transactions\": [\"delivery\", \"pickup\"], \"price\": \"$\", \"location\": {\"address1\": \"600 W Martin Luther King Jr Blvd\", \"address2\": null, \"address3\": \"\", \"city\": \"Austin\", \"zip_code\": \"78701\", \"country\": \"US\", \"state\": \"TX\", \"display_address\": [\"600 W Martin Luther King Jr Blvd\", \"Austin, TX 78701\"]}, \"phone\": \"+15129920427\", \"display_phone\": \"(512) 992-0427\", \"distance\": 2805.925198643482}, {\"id\": \"BQZ6_qTCYHu_SO1eXyKArg\", \"alias\": \"taqueria-anyeli-austin-2\", \"name\": \"Taqueria Anyeli\", \"image_url\": \"https://s3-media3.fl.yelpcdn.com/bphoto/geJSolXsh4CwFlNvG93Xtw/o.jpg\", \"is_closed\": false, \"url\": \"https://www.yelp.com/biz/taqueria-anyeli-austin-2?adjust_creative=7Al0DP6TboF9LrNmrypGsw&utm_campaign=yelp_api_v3&utm_medium=api_v3_business_search&utm_source=7Al0DP6TboF9LrNmrypGsw\", \"review_count\": 46, \"categories\": [{\"alias\": \"foodtrucks\", \"title\": \"Food Trucks\"}, {\"alias\": \"mexican\", \"title\": \"Mexican\"}], \"rating\": 5.0, \"coordinates\": {\"latitude\": 30.295, \"longitude\": -97.74191}, \"transactions\": [\"delivery\"], \"price\": \"$\", \"location\": {\"address1\": \"\", \"address2\": \"\", \"address3\": null, \"city\": \"Austin\", \"zip_code\": \"78705\", \"country\": \"US\", \"state\": \"TX\", \"display_address\": [\"Austin, TX 78705\"]}, \"phone\": \"+15126792540\", \"display_phone\": \"(512) 679-2540\", \"distance\": 2060.1802725172015}], \"total\": 1900, \"region\": {\"center\": {\"longitude\": -97.75772094726562, \"latitude\": 30.305156315977833}}}\n"
     ]
    }
   ],
   "source": [
    "print(response.text)"
   ]
  },
  {
   "cell_type": "code",
   "execution_count": 11,
   "metadata": {},
   "outputs": [
    {
     "data": {
      "text/plain": [
       "dict_keys(['businesses', 'total', 'region'])"
      ]
     },
     "execution_count": 11,
     "metadata": {},
     "output_type": "execute_result"
    }
   ],
   "source": [
    "my_Austin_taco_request = response.json()\n",
    "my_Austin_taco_request.keys()"
   ]
  },
  {
   "cell_type": "code",
   "execution_count": 12,
   "metadata": {},
   "outputs": [
    {
     "name": "stdout",
     "output_type": "stream",
     "text": [
      "businesses\n",
      "<class 'list'>\n",
      "\n",
      "\n",
      "total\n",
      "<class 'int'>\n",
      "\n",
      "\n",
      "region\n",
      "<class 'dict'>\n",
      "\n",
      "\n"
     ]
    }
   ],
   "source": [
    "for key in my_Austin_taco_request:\n",
    "    print(key)\n",
    "    value = my_Austin_taco_request[key]\n",
    "    print(type(value))\n",
    "    print('\\n')"
   ]
  },
  {
   "cell_type": "code",
   "execution_count": 13,
   "metadata": {},
   "outputs": [
    {
     "data": {
      "text/plain": [
       "{'id': 'cYsillXIBTJzaxxC3-5wJg',\n",
       " 'alias': 'las-trancas-austin',\n",
       " 'name': 'Las Trancas',\n",
       " 'image_url': 'https://s3-media1.fl.yelpcdn.com/bphoto/8Y7P56nYPKkTWsJlh7zoOA/o.jpg',\n",
       " 'is_closed': False,\n",
       " 'url': 'https://www.yelp.com/biz/las-trancas-austin?adjust_creative=7Al0DP6TboF9LrNmrypGsw&utm_campaign=yelp_api_v3&utm_medium=api_v3_business_search&utm_source=7Al0DP6TboF9LrNmrypGsw',\n",
       " 'review_count': 442,\n",
       " 'categories': [{'alias': 'mexican', 'title': 'Mexican'},\n",
       "  {'alias': 'foodtrucks', 'title': 'Food Trucks'}],\n",
       " 'rating': 4.5,\n",
       " 'coordinates': {'latitude': 30.2596927300688, 'longitude': -97.731671333313},\n",
       " 'transactions': ['delivery'],\n",
       " 'price': '$',\n",
       " 'location': {'address1': '1210 E Cesar Chavez St',\n",
       "  'address2': '',\n",
       "  'address3': '',\n",
       "  'city': 'Austin',\n",
       "  'zip_code': '78702',\n",
       "  'country': 'US',\n",
       "  'state': 'TX',\n",
       "  'display_address': ['1210 E Cesar Chavez St', 'Austin, TX 78702']},\n",
       " 'phone': '+15127018287',\n",
       " 'display_phone': '(512) 701-8287',\n",
       " 'distance': 5640.294792053827}"
      ]
     },
     "execution_count": 13,
     "metadata": {},
     "output_type": "execute_result"
    }
   ],
   "source": [
    "my_Austin_taco_request['businesses'][3]"
   ]
  },
  {
   "cell_type": "code",
   "execution_count": 31,
   "metadata": {},
   "outputs": [
    {
     "name": "stdout",
     "output_type": "stream",
     "text": [
      "This is how many rows:\n",
      "20\n",
      "These are the columns:\n",
      "Index(['alias', 'name', 'image_url', 'is_closed', 'url', 'review_count',\n",
      "       'categories', 'rating', 'coordinates', 'transactions', 'price',\n",
      "       'location', 'phone', 'display_phone', 'distance'],\n",
      "      dtype='object')\n"
     ]
    },
    {
     "data": {
      "text/html": [
       "<div>\n",
       "<style scoped>\n",
       "    .dataframe tbody tr th:only-of-type {\n",
       "        vertical-align: middle;\n",
       "    }\n",
       "\n",
       "    .dataframe tbody tr th {\n",
       "        vertical-align: top;\n",
       "    }\n",
       "\n",
       "    .dataframe thead th {\n",
       "        text-align: right;\n",
       "    }\n",
       "</style>\n",
       "<table border=\"1\" class=\"dataframe\">\n",
       "  <thead>\n",
       "    <tr style=\"text-align: right;\">\n",
       "      <th></th>\n",
       "      <th>alias</th>\n",
       "      <th>name</th>\n",
       "      <th>image_url</th>\n",
       "      <th>is_closed</th>\n",
       "      <th>url</th>\n",
       "      <th>review_count</th>\n",
       "      <th>categories</th>\n",
       "      <th>rating</th>\n",
       "      <th>coordinates</th>\n",
       "      <th>transactions</th>\n",
       "      <th>price</th>\n",
       "      <th>location</th>\n",
       "      <th>phone</th>\n",
       "      <th>display_phone</th>\n",
       "      <th>distance</th>\n",
       "    </tr>\n",
       "  </thead>\n",
       "  <tbody>\n",
       "    <tr>\n",
       "      <th>0</th>\n",
       "      <td>pepe-s-tacos-austin</td>\n",
       "      <td>Pepe’s Tacos</td>\n",
       "      <td>https://s3-media1.fl.yelpcdn.com/bphoto/HZNBng...</td>\n",
       "      <td>False</td>\n",
       "      <td>https://www.yelp.com/biz/pepe-s-tacos-austin?a...</td>\n",
       "      <td>161</td>\n",
       "      <td>[{'alias': 'foodtrucks', 'title': 'Food Trucks...</td>\n",
       "      <td>4.5</td>\n",
       "      <td>{'latitude': 30.273319, 'longitude': -97.7535433}</td>\n",
       "      <td>[delivery, pickup]</td>\n",
       "      <td>$$</td>\n",
       "      <td>{'address1': '704 N Lamar Blvd', 'address2': '...</td>\n",
       "      <td>+17372034175</td>\n",
       "      <td>(737) 203-4175</td>\n",
       "      <td>3562.796230</td>\n",
       "    </tr>\n",
       "    <tr>\n",
       "      <th>1</th>\n",
       "      <td>veracruz-all-natural-austin-6</td>\n",
       "      <td>Veracruz All Natural</td>\n",
       "      <td>https://s3-media1.fl.yelpcdn.com/bphoto/__s9xb...</td>\n",
       "      <td>False</td>\n",
       "      <td>https://www.yelp.com/biz/veracruz-all-natural-...</td>\n",
       "      <td>979</td>\n",
       "      <td>[{'alias': 'foodtrucks', 'title': 'Food Trucks...</td>\n",
       "      <td>4.5</td>\n",
       "      <td>{'latitude': 30.263074671462796, 'longitude': ...</td>\n",
       "      <td>[delivery]</td>\n",
       "      <td>$</td>\n",
       "      <td>{'address1': '2505 Webberville Rd', 'address2'...</td>\n",
       "      <td>+15129811760</td>\n",
       "      <td>(512) 981-1760</td>\n",
       "      <td>6304.790525</td>\n",
       "    </tr>\n",
       "    <tr>\n",
       "      <th>2</th>\n",
       "      <td>grannys-tacos-austin</td>\n",
       "      <td>Granny's Tacos</td>\n",
       "      <td>https://s3-media1.fl.yelpcdn.com/bphoto/s582az...</td>\n",
       "      <td>False</td>\n",
       "      <td>https://www.yelp.com/biz/grannys-tacos-austin?...</td>\n",
       "      <td>459</td>\n",
       "      <td>[{'alias': 'foodtrucks', 'title': 'Food Trucks...</td>\n",
       "      <td>5.0</td>\n",
       "      <td>{'latitude': 30.264366833319514, 'longitude': ...</td>\n",
       "      <td>[delivery, pickup]</td>\n",
       "      <td>$</td>\n",
       "      <td>{'address1': '1401 E 7th St', 'address2': None...</td>\n",
       "      <td>+15127014000</td>\n",
       "      <td>(512) 701-4000</td>\n",
       "      <td>5358.604678</td>\n",
       "    </tr>\n",
       "    <tr>\n",
       "      <th>3</th>\n",
       "      <td>las-trancas-austin</td>\n",
       "      <td>Las Trancas</td>\n",
       "      <td>https://s3-media1.fl.yelpcdn.com/bphoto/8Y7P56...</td>\n",
       "      <td>False</td>\n",
       "      <td>https://www.yelp.com/biz/las-trancas-austin?ad...</td>\n",
       "      <td>442</td>\n",
       "      <td>[{'alias': 'mexican', 'title': 'Mexican'}, {'a...</td>\n",
       "      <td>4.5</td>\n",
       "      <td>{'latitude': 30.2596927300688, 'longitude': -9...</td>\n",
       "      <td>[delivery]</td>\n",
       "      <td>$</td>\n",
       "      <td>{'address1': '1210 E Cesar Chavez St', 'addres...</td>\n",
       "      <td>+15127018287</td>\n",
       "      <td>(512) 701-8287</td>\n",
       "      <td>5640.294792</td>\n",
       "    </tr>\n",
       "    <tr>\n",
       "      <th>4</th>\n",
       "      <td>cuantos-tacos-austin</td>\n",
       "      <td>Cuantos Tacos</td>\n",
       "      <td>https://s3-media4.fl.yelpcdn.com/bphoto/Dqrq54...</td>\n",
       "      <td>False</td>\n",
       "      <td>https://www.yelp.com/biz/cuantos-tacos-austin?...</td>\n",
       "      <td>118</td>\n",
       "      <td>[{'alias': 'mexican', 'title': 'Mexican'}, {'a...</td>\n",
       "      <td>5.0</td>\n",
       "      <td>{'latitude': 30.27289434365302, 'longitude': -...</td>\n",
       "      <td>[delivery]</td>\n",
       "      <td>$</td>\n",
       "      <td>{'address1': '1108 E 12th St', 'address2': Non...</td>\n",
       "      <td>+15129033918</td>\n",
       "      <td>(512) 903-3918</td>\n",
       "      <td>4572.469109</td>\n",
       "    </tr>\n",
       "  </tbody>\n",
       "</table>\n",
       "</div>"
      ],
      "text/plain": [
       "                           alias                  name  \\\n",
       "0            pepe-s-tacos-austin          Pepe’s Tacos   \n",
       "1  veracruz-all-natural-austin-6  Veracruz All Natural   \n",
       "2           grannys-tacos-austin        Granny's Tacos   \n",
       "3             las-trancas-austin           Las Trancas   \n",
       "4           cuantos-tacos-austin         Cuantos Tacos   \n",
       "\n",
       "                                           image_url  is_closed  \\\n",
       "0  https://s3-media1.fl.yelpcdn.com/bphoto/HZNBng...      False   \n",
       "1  https://s3-media1.fl.yelpcdn.com/bphoto/__s9xb...      False   \n",
       "2  https://s3-media1.fl.yelpcdn.com/bphoto/s582az...      False   \n",
       "3  https://s3-media1.fl.yelpcdn.com/bphoto/8Y7P56...      False   \n",
       "4  https://s3-media4.fl.yelpcdn.com/bphoto/Dqrq54...      False   \n",
       "\n",
       "                                                 url  review_count  \\\n",
       "0  https://www.yelp.com/biz/pepe-s-tacos-austin?a...           161   \n",
       "1  https://www.yelp.com/biz/veracruz-all-natural-...           979   \n",
       "2  https://www.yelp.com/biz/grannys-tacos-austin?...           459   \n",
       "3  https://www.yelp.com/biz/las-trancas-austin?ad...           442   \n",
       "4  https://www.yelp.com/biz/cuantos-tacos-austin?...           118   \n",
       "\n",
       "                                          categories  rating  \\\n",
       "0  [{'alias': 'foodtrucks', 'title': 'Food Trucks...     4.5   \n",
       "1  [{'alias': 'foodtrucks', 'title': 'Food Trucks...     4.5   \n",
       "2  [{'alias': 'foodtrucks', 'title': 'Food Trucks...     5.0   \n",
       "3  [{'alias': 'mexican', 'title': 'Mexican'}, {'a...     4.5   \n",
       "4  [{'alias': 'mexican', 'title': 'Mexican'}, {'a...     5.0   \n",
       "\n",
       "                                         coordinates        transactions  \\\n",
       "0  {'latitude': 30.273319, 'longitude': -97.7535433}  [delivery, pickup]   \n",
       "1  {'latitude': 30.263074671462796, 'longitude': ...          [delivery]   \n",
       "2  {'latitude': 30.264366833319514, 'longitude': ...  [delivery, pickup]   \n",
       "3  {'latitude': 30.2596927300688, 'longitude': -9...          [delivery]   \n",
       "4  {'latitude': 30.27289434365302, 'longitude': -...          [delivery]   \n",
       "\n",
       "  price                                           location         phone  \\\n",
       "0    $$  {'address1': '704 N Lamar Blvd', 'address2': '...  +17372034175   \n",
       "1     $  {'address1': '2505 Webberville Rd', 'address2'...  +15129811760   \n",
       "2     $  {'address1': '1401 E 7th St', 'address2': None...  +15127014000   \n",
       "3     $  {'address1': '1210 E Cesar Chavez St', 'addres...  +15127018287   \n",
       "4     $  {'address1': '1108 E 12th St', 'address2': Non...  +15129033918   \n",
       "\n",
       "    display_phone     distance  \n",
       "0  (737) 203-4175  3562.796230  \n",
       "1  (512) 981-1760  6304.790525  \n",
       "2  (512) 701-4000  5358.604678  \n",
       "3  (512) 701-8287  5640.294792  \n",
       "4  (512) 903-3918  4572.469109  "
      ]
     },
     "execution_count": 31,
     "metadata": {},
     "output_type": "execute_result"
    }
   ],
   "source": [
    "import pandas as pd\n",
    "df = pd.DataFrame.from_dict((my_Austin_taco_request)['businesses'])\n",
    "df.drop(columns='id', axis=1, inplace=True)\n",
    "print(\"This is how many rows:\")\n",
    "print(len(df))\n",
    "print(\"These are the columns:\")\n",
    "print(df.columns)\n",
    "df.head()"
   ]
  },
  {
   "cell_type": "markdown",
   "metadata": {},
   "source": [
    "The final important note is how some of the parameters have alternative formats. For example, `limit` is an integer and `open_now` is a boolean according to the documentation. Following these conventions is essential to receiving valid responses.\n",
    "\n",
    "# Summary\n",
    "\n",
    "Congratulations! Not only have you seen an API now, you've also practiced sifting through the documentation. The last piece in working with APIs is developing a more solid understanding of JSON files; the data format typically returned by modern APIs. Take some additional time and familiarize yourself with some further aspects of the documentation which you may wish to investigate in the upcoming lab!"
   ]
  }
 ],
 "metadata": {
  "kernelspec": {
   "display_name": "Python 3",
   "language": "python",
   "name": "python3"
  },
  "language_info": {
   "codemirror_mode": {
    "name": "ipython",
    "version": 3
   },
   "file_extension": ".py",
   "mimetype": "text/x-python",
   "name": "python",
   "nbconvert_exporter": "python",
   "pygments_lexer": "ipython3",
   "version": "3.8.5"
  },
  "toc": {
   "base_numbering": 1,
   "nav_menu": {},
   "number_sections": true,
   "sideBar": true,
   "skip_h1_title": false,
   "title_cell": "Table of Contents",
   "title_sidebar": "Contents",
   "toc_cell": false,
   "toc_position": {},
   "toc_section_display": true,
   "toc_window_display": false
  }
 },
 "nbformat": 4,
 "nbformat_minor": 2
}
